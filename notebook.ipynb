# Proyek Analisis Data: [Brazilian E Commerce]
- **Nama:** [Siti Riza Fatimah Syafrudin]
- **Email:** [sirizafan12@gmail.com]
- **ID Dicoding:** [sitirizafs]
## Menentukan Pertanyaan Bisnis
Menentukan Pertanyaan Bisnis

1. Bagaimana performa penjualan dan revenue dalam 3 bulan terakhir di tahun 2018?
2. Apa produk yang paling laris terjual dan paling rendah penjualannya dalam 3 bulan terakhir?
3. Bagaimana sebaran seller berdasarkan kota dan state?
## Import Semua Packages/Library yang Digunakan
import numpy as np ## Numerical Python
import pandas as pd ## Python for Data Analysis
import matplotlib.pyplot as plt ## Ploting Library Available
import seaborn as sns ## Library for Making Statistical Graphs

#Install Kaggle for import dataset
!pip install kaggle
## Import dataset
#mengunggah file kaggle.json
from google.colab import files
files.upload()
# memindahkan file kaggle.json ke direktori
!mkdir -p ~/.kaggle
!cp kaggle.json ~/.kaggle/
!chmod 600 ~/.kaggle/kaggle.json
!kaggle datasets download -d olistbr/brazilian-ecommerce
#download dataset dari kaggle
!kaggle datasets download -d olistbr/brazilian-ecommerce
#ekstrak dataset
import zipfile
with zipfile.ZipFile('brazilian-ecommerce.zip', 'r') as zip_ref:
    zip_ref.extractall('brazilian_ecommerce')
## Data Wrangling
### Gathering Data
#membaca file dataset customers
import pandas as pd
customers_df = pd.read_csv('brazilian_ecommerce/olist_customers_dataset.csv')
customers_df.head()
#membaca file dataset order
import pandas as pd
orders_df = pd.read_csv('brazilian_ecommerce/olist_orders_dataset.csv')
orders_df.head()
#membaca file dataset sellers
import pandas as pd
sellers_df = pd.read_csv('brazilian_ecommerce/olist_sellers_dataset.csv')
sellers_df.head()
#membaca file dataset order_items
import pandas as pd
order_items_df = pd.read_csv('brazilian_ecommerce/olist_order_items_dataset.csv')
order_items_df.head()
#membaca file dataset products
import pandas as pd
products_dataset_df = pd.read_csv('brazilian_ecommerce/olist_products_dataset.csv')
products_dataset_df.head()
**Insight:**
- xxx
- xxx
### Assessing Data
#menilai dataset customers

#cek informasi
customers_df.info()
#cek missing value
print("Jumlah missing value: ", customers_df.isnull().sum().sum())
#cek duplikasi
print("Jumlah duplikasi: ", customers_df.duplicated().sum())
#cek parameter statistik
customers_df.describe()

**Insight pada dataset customers:**
- tipe data sudah sesuai
- tidak ada missing value
- tidak ada duplikasi
- parameter statistik sesuai.
#menilai dataset orders

#cek informasi
orders_df.info()
#cek missing value
print("Jumlah missing value: ", orders_df.isnull().sum().sum())
#cek duplikasi
print("Jumlah duplikasi: ", orders_df.duplicated().sum())
#cek parameter statistik
orders_df.describe()
**Insight pada dataset orders:**
- tipe data pada: order_purchase_timestamp, order_approved_at, order_delivered_carrier_date, order_delivered_customer_date, order_estimated_delivery_date tida sesuai, harusnya memakai tipe data datatime
- ada missing value pada: order_approved_at, order_delivered_carrier_date, dan order_delivered-customer_date dengan total 4908 missing values
- tidak ada duplikasi
- parameter statistik sesuai
#menilai dataset sellers

#cek informasi
sellers_df.info()
#cek missing value
print("Jumlah missing value: ", sellers_df.isnull().sum().sum())
#cek duplikasi
print("Jumlah duplikasi: ", sellers_df.duplicated().sum())
#cek parameter statistik
sellers_df.describe()
**Insight pada dataset sellers:**

- tipe data sesuai
- tidak ada missing value
- tidak ada duplikasi
- parameter sesuai
#menilai dataset order_items

#cek informasi
order_items_df.info()
#cek missing value
print("Jumlah missing value: ", order_items_df.isnull().sum().sum())
#cek duplikasi
print("Jumlah duplikasi: ", order_items_df.duplicated().sum())
#cek parameter statistik
order_items_df.describe()

**Insight pada dataset order_items:**

- tipe data pada shipping_limit_date harus diubah dari object ke datatime
- tidak ada missing value
- tidak ada duplikasi
- parameter sesuai
#menilai dataset products

#cek informasi
products_dataset_df.info()
#cek missing value
print("Jumlah missing value: ", products_dataset_df.isnull().sum().sum())
#cek duplikasi
print("Jumlah duplikasi: ", products_dataset_df.duplicated().sum())
#cek parameter statistik
products_dataset_df.describe()

**Insight pada dataset products:**

- tipe data sesuai
- ada missing value pada: product_category_name, product_name_lenght, product_description_lenght, product_photos_qty
product_weight_g, product_length_cm, product_height_cm, product_width_cm.
Tapi data tersebut tidak dibutuhkan, jadi akan dihapus.
- tidak ada duplikasi
- parameter sesuai
### Cleaning Data
Mengatasi kesalahan tipe data pada dataset orders, pada kolom:
- order_purchase_timestamp
- order_approved_at,
- order_delivered_carrier_date, dan
- order_delivered-customer_date
#Mengatasi kesalahan tipe data pada column:
#order_purchase_timestamp, order_approved_at,
#order_delivered_carrier_date, order_delivered_customer_date,
#order_estimated_delivery_date

#mengganti tipedata
datetime_columns = [
    'order_purchase_timestamp',
    'order_approved_at',
    'order_delivered_carrier_date',
    'order_delivered_customer_date',
    'order_estimated_delivery_date'
    ]

for column in datetime_columns:
    orders_df[column] = pd.to_datetime(orders_df[column])

orders_df.info()
#hasil:
#missing value pada kolom-kolom tersebut solved.
Mengatasi missing value pada dataset orders
#cek data pada:
#order_approved_at
orders_df[orders_df.order_approved_at.isnull()]

#hasil:
#column order_approved_at mengalami missing value karena terjadi pembatalan order oleh customer.
#jadi, lakukan imputation pada kolom order_approved_at dengan menggunakan
#nilai dari kolom order_purchase_timestamp.
#Logikanya, pesanan tidak mungkin disetujui sebelum dibeli
#mengisi missing value pada kolom order_approved_at dengan nilai
#dari kolom order_purchase_timestamp
orders_df.fillna({'order_approved_at': orders_df['order_purchase_timestamp']}, inplace=True)
orders_df.info()

#hasil:
#missing value pada kolom order_approved_at solved.
#cek data pada:
#order_delivered_carrier_date
orders_df[orders_df.order_delivered_carrier_date.isnull()]

#hasil:
#kolom order_delivered_carrier_date terjadi missing value mungkin karena pesanan belum dikirim
#atau data tidak tercatat.
#Solusinya melakukan imputation pada kolom tersebut dengan value rata-rata antara
#waktu persetujuan pesanan dan dikirim ke kurir.
#menghitung rata-rata waktu antara persetujuan pesanan dan dikirim ke kurir.
avg_delivery_carrier_time = (orders_df['order_delivered_carrier_date'] - orders_df['order_approved_at']).mean()

#mengisi missing value pada kolom order_delivered_carrier_date dengan nilai
#dari hasil avg_delivery_carrier_time
orders_df.fillna({'order_delivered_carrier_date': orders_df['order_approved_at'] + avg_delivery_carrier_time}, inplace=True)
orders_df.info()

#hasil:
#missing value pada kolom order_delivered_carrier-date solved.

#cek data pada:
#order_delivered_customer_date
orders_df[orders_df.order_delivered_customer_date.isnull()]

#hasil:
#kolom order_delivered_customer_date terjadi missing value mungkin karena pesanan belum terkirim
#Solusinya melakukan imputation pada kolom tersebut dengan value rata-rata antara
#waktu pengiriman ke kurir dan pengiriman ke pelanggan.
#menghitung rata-rata waktu antara pengirimnan ke kurir dan pengiriman ke pelanggan.
avg_delivery_customer_time = (orders_df['order_delivered_customer_date'] - orders_df['order_delivered_carrier_date']).mean()

#mengisi missing value pada kolom order_delivered_carrier_date dengan nilai
#dari hasil avg_delivery_carrier_time
orders_df.fillna({'order_delivered_customer_date': orders_df['order_delivered_carrier_date'] + avg_delivery_customer_time}, inplace=True)
orders_df.info()

#hasil:
#missing value pada kolom order_delivered_customer_date solved.

Mengatasi kesalahan tipe data pada dataset order items
#Mengatasi kesalahan tipe data pada column:
#shipping_limit_date

#mengganti tipedata
datetime_columns = ['shipping_limit_date']

for column in datetime_columns:
    order_items_df[column] = pd.to_datetime(order_items_df[column])

order_items_df.info()
#hasil:
#missing value pada kolom tersebut solved.
Mengatasi missing value pada dataset products
#Missing value terjadi pada kolom:
#product_category_name, product_name_lenght, product_description_lenght, product_photos_qty
#product_weight_g, product_length_cm, product_height_cm, product_width_cm

#Tapi karena dari semua kolom itu hanya diperlukan value dari product_category_name,
#maka perbaikan missing value hanya akan dilakukan pada value tersebut.
#Lalu kolom lainnya akan dihapus karena tidak diperlukan.

#Memperbaiki missing value pada product_category_name, dengan imputation menggunakan value dominan karena jenis datanya kategorik
#Menghitung value dominan dari product_category_name
products_dataset_df.product_category_name.value_counts()

#value dominan dari product_category_name adalah cama_mesa_banho.
#Mengisi missing value pada product_category_name dengan value dominan
products_dataset_df.fillna({'product_category_name': 'cama_mesa_banho'}, inplace=True)
products_dataset_df.info()

#hasil:
#missing value pada kolom product_category_name solved.
#Menghapus kolom yang tidak diperlukan
products_dataset_df.drop([
    'product_name_lenght',
    'product_description_lenght',
    'product_photos_qty',
    'product_weight_g',
    'product_length_cm',
    'product_height_cm',
    'product_width_cm'
    ],axis=1, inplace=True)

products_dataset_df.head()

#hasil:
#kolom-kolom tersebut solved.
**Insight:**
- kesalahan tipe data pada dataset orders, pada kolom: order_purchase_timestamp, order_approved_at,
order-delivered_carrier_data, dan order_delivered_customer-date sudah diperbaiki
- missing value pada dataset orders, pada kolom: order_approved_at,
order-delivered_carrier_data, dan order_delivered_customer-date sudah diperbaiki
- kesalahan tipe data pada dataset orders, pada kolom: shipping_limit_date sudah diperbaiki
- missing value pada dataset products sudah diperbaiki
- kolom yang tidak diperlukan pada dataset products sudah dihapus
## Exploratory Data Analysis (EDA)
### Explore Data customers_df
#melihat rangkuman parameter statistik dari data customer_df
customers_df.describe(include="all")
#melihat demografi customer berdasarkan kota
customers_df.groupby(by="customer_city").customer_id.nunique().sort_values(ascending=False)
#melihat demografi customer berdasarkan state
customers_df.groupby(by="customer_state").customer_id.nunique().sort_values(ascending=False)
**Insight:**
- jumlah customer sebanyak 99441 orang
- hasil demografi sebaran customer terbanyak ada di kota Sao Paulo dan di negara dengan kode SP
- hasil demografi sebaran customer terbanyak ada di negara dengan kode SP
### Explore Data orders_df,  order_items_df dan products_dataset_df
#melihat rangkuman parameter statistik dari data orders_df
orders_df.describe(include="all")
#melihat rangkuman parameter statistik dari data order_items_df
order_items_df.describe(include="all")
#melihat rangkuman parameter statistik dari data products_dataset_df
products_dataset_df.describe(include="all")
#menggabungkan data orders_df dan order_items_df
all_info_product_df = pd.merge(
    left=orders_df,
    right=order_items_df,
    how='left',
    left_on='order_id',
    right_on='order_id'
)

#menggabungkan data all_info_product_df dan products_dataset_df
all_info_product_df = pd.merge(
    left=all_info_product_df,
    right=products_dataset_df,
    how='left',
    left_on='product_id',
    right_on='product_id'
)

all_info_product_df.head()
#menambahkan kolom 'quantity' untuk mengetahui jumlah penjualan tiap produk
all_info_product_df['quantity'] = all_info_product_df.groupby('product_id')['product_id'].transform('count')
all_info_product_df.head()
#mengetahui gambaran produk yang dijual
all_info_product_df.groupby(by="product_category_name").agg({
    "product_id": "nunique",
    "quantity": "sum",
    "price": ["min", "max"]
})
#mengetahui produk yang terlaris dan penyumbang revenue terbesar
all_info_product_df.groupby(by="product_category_name").agg({
    "product_id": "nunique",
    "quantity": "sum",
    "price": ["min", "max"]
}).sort_values(by=("price", "max"), ascending=False)
**Insight:**
- jenis barang yang laris terjual dan memberikan revenue terbanyak adalah utilidades_domesticas
### Explore Data sellers_df

#melihat rangkuman parameter statistik dari data sellers_df
sellers_df.describe(include="all")
#melihat sebaran seller berdasarkan kota
sellers_df.groupby(by="seller_city").seller_id.nunique().sort_values(ascending=False)
#melihat sebaran seller berdasarkan state
sellers_df.groupby(by="seller_state").seller_id.nunique().sort_values(ascending=False)
**Insight:**
- demografi seller berdasarkan kota, terbanyak di Sao Paulo
- demografi seller berdasarkan state, terbanyak di kode SP
#menggabungkan seluruh dataset (all_info_product_df ditambah sellers_df)
all_info_product_df = pd.merge(
    left=all_info_product_df,
    right=sellers_df,
)

all_info_product_df.head()
## Visualization & Explanatory Analysis
### Pertanyaan 1: Bagaimana performa penjualan dan revenue dalam 3 bulan terakhir di tahun 2018?
#mengubah frekuensi data untuk memperoleh jumlah order dan total revenue setiap bulan
monthly_orders_revenue = all_info_product_df.resample(
    rule='ME',
    on='order_purchase_timestamp'
).agg({
    "order_id": "nunique",
    "price": "sum"
})
monthly_orders_revenue.index = monthly_orders_revenue.index.strftime('%Y-%m')
monthly_orders_revenue = monthly_orders_revenue.reset_index()
monthly_orders_revenue.rename(columns={
    "order_id": "order_count",
    "price": "revenue"
}, inplace=True)

monthly_orders_revenue.head()

#membuat line chart untuk jumlah order per bulan
monthly_orders_revenue = all_info_product_df.resample(
    rule='ME',
    on='order_purchase_timestamp').agg({
    "order_id": "nunique",
    "price": "sum"
})
monthly_orders_revenue.index = monthly_orders_revenue.index.strftime('%Y-%m')
monthly_orders_revenue = monthly_orders_revenue.reset_index()
monthly_orders_revenue.rename(columns={
    "order_id": "order_count",
    "price": "revenue"
}, inplace=True)

plt.figure(figsize=(10, 5))
plt.plot(monthly_orders_revenue['order_purchase_timestamp'], monthly_orders_revenue['order_count'], marker='o', linewidth=2, color="#72BCD4")
plt.title('Monthly Orders Count per Month', loc='center', fontsize=20)
plt.xticks(fontsize=10, rotation=45)
plt.yticks(fontsize=10)
plt.show()
**Insight:**
- tiga bulan terakhir pada tahun 2018 berdasarkan line chart terdiri dari bulan ke-08 hingga bulan ke-10
- dari tiga bulan tersebut, penjualan tertinggi ada pada bulan ke-08
- penjualan mengalami penurunan pada bulan ke-09 hingga bulan ke-10
### Pertanyaan 2: Apa produk yang paling laris terjual dan paling rendah penjualannya dalam 3 bulan terakhir?
#membuat dataframe baru untuk menampung informasi terkait jumlah penjualan tiap produk
product_sales_df = all_info_product_df.groupby(by="product_category_name").quantity.sum().sort_values(ascending=False).reset_index()
product_sales_df.head(15)
#membuat bar chart untuk data tersebut

#membuat kanvas kosong
fig, ax = plt.subplots(nrows=1, ncols=2, figsize=(24, 6))
#mengisi kanvas kosong
fig, ax = plt.subplots(nrows=1, ncols=2, figsize=(24, 6))
colors = ["#72BCD4", "#D3D3D3", "#D3D3D3", "#D3D3D3", "#D3D3D3"]

sns.barplot(
    x="quantity",
    y="product_category_name",
    data=product_sales_df.head(5),
    palette=colors,
    ax=ax[0]
    )
ax[0].set_ylabel(None)
ax[0].set_xlabel(None)
ax[0].set_title("Best Performing Product", loc="center", fontsize=15)
ax[0].tick_params(axis ='y', labelsize=12)

sns.barplot(
    x="quantity",
    y="product_category_name",
    data=product_sales_df.sort_values(by="quantity", ascending=True).head(5),
    palette=colors,
    ax=ax[1]
    )
ax[1].set_ylabel(None)
ax[1].set_xlabel(None)
ax[1].invert_xaxis()
ax[1].yaxis.set_label_position("right")
ax[1].yaxis.tick_right()
ax[1].set_title("Worst Performing Product", loc="center", fontsize=15)
ax[1].tick_params(axis='y', labelsize=12)

plt.suptitle("Best & Worst Performing Product", fontsize=20)
plt.show()
**Insight:**
- product dengan penjualan terbaik yaitu ferramentas_jardim
- product dengan penjualan terendah yaitu seguros_e_servicos
### Pertanyaan 3: Bagaimana sebaran seller berdasarkan kota dan state?
#membuat dataframe baru untuk menampung informasi terkait demografi seller berdasarkan kota
bycity_df = sellers_df.groupby(by="seller_city").seller_id.nunique().reset_index()
bycity_df.rename(columns={
    "seller_id": "seller_count"
}, inplace=True)
bycity_df
plt.figure(figsize=(10, 5))
colors_ = ["#72BCD4", "#D3D3D3", "#D3D3D3", "#D3D3D3", "#D3D3D3", "#D3D3D3", "#D3D3D3", "#D3D3D3"]
sns.barplot(
    x="seller_count",
    y="seller_city",
    data=bycity_df.sort_values(by="seller_count", ascending=False).head(5),
    palette=colors_
)
plt.title("Number of Sellers per City", loc="center", fontsize=15)
plt.ylabel(None)
plt.xlabel(None)
plt.tick_params(axis='y', labelsize=12)
plt.show()

#membuat dataframe baru untuk menampung informasi terkait demografi seller berdasarkan state
bystate_df = sellers_df.groupby(by="seller_state").seller_id.nunique().reset_index()
bystate_df.rename(columns={
    "seller_id": "seller_count"
}, inplace=True)
bystate_df
plt.figure(figsize=(10, 5))
colors_ = ["#72BCD4", "#D3D3D3", "#D3D3D3", "#D3D3D3", "#D3D3D3", "#D3D3D3", "#D3D3D3", "#D3D3D3"]
sns.barplot(
    x="seller_count",
    y="seller_state",
    data=bystate_df.sort_values(by="seller_count", ascending=False).head(5),
    palette=colors_
)
plt.title("Number of Sellers per State", loc="center", fontsize=15)
plt.ylabel(None)
plt.xlabel(None)
plt.tick_params(axis='y', labelsize=12)
plt.show()

**Insight:**
- sebaran demografi seller berdasarkan kota terbanyak ada di Sao Paulo, diikuti oleh Curitiba, dan Rio de Janairo
- sebaran demografi seller berdasarkan state terbanyak ada di state dengan kode SP, diikuti oleh state dengan kode PR dan state dengan kode MG
## Analisis Lanjutan (opsional)
#Melakukan anlisis RFM
rfm_df = all_info_product_df.groupby(by="customer_id", as_index=False).agg({
    "order_purchase_timestamp": "max", #mengambil tanggal order terakhir
    "order_id": "nunique", #menghitung jumlah order
    "price": "max" #menghitung jumlah revenue yang dihasilkan
})
rfm_df.columns = ["customer_id", "max_order_timestamp", "frequency", "monetary"]

#menghitung kapan terakhir kali pelanggan melakukan transaksi (hari)
rfm_df["max_order_timestamp"] = rfm_df["max_order_timestamp"].dt.date
recent_date = all_info_product_df["order_purchase_timestamp"].dt.date.max()
rfm_df["recency"] = rfm_df["max_order_timestamp"].apply(lambda x: (recent_date - x).days)

rfm_df.drop("max_order_timestamp", axis=1, inplace=True)
rfm_df.head()

#karena value pada customer_id cukup panjang, untuk mempersingkat value agar tampilan
#plot terihat rapi, maka tambahkan kolom baru 'customer_id_inisial' yang berisi 4 karakter terakhir dari value customer_id
rfm_df['customer_id_initial'] = rfm_df['customer_id'].str[-4:]
rfm_df.head()
#cek duplikasi, untuk menghindari kesamaan value pada customer_id_initial
rfm_df.duplicated().sum()
#mengidentifikasi best customer berdasarkan RFM
fig, ax = plt.subplots(nrows=1, ncols=3, figsize=(30,6))

colors = ["#72BCD4", "#72BCD4", "#72BCD4", "#72BCD4", "#72BCD4"]

#plot berdasarkan recency
sns.barplot(y="recency", x="customer_id_initial", data=rfm_df.sort_values(by="recency", ascending=True).head(5), palette=colors, ax=ax[0])
ax[0].set_ylabel(None)
ax[0].set_xlabel(None)
ax[0].set_title("By Recency (days)", loc="center", fontsize=18)
ax[0].tick_params(axis='x', labelsize=15)

#plot berdasarkan frequency
sns.barplot(y="frequency", x="customer_id_initial", data=rfm_df.sort_values(by="frequency", ascending=False).head(5), palette=colors, ax=ax[1])
ax[1].set_ylabel(None)
ax[1].set_xlabel(None)
ax[1].set_title("By Frequency", loc="center", fontsize=18)
ax[1].tick_params(axis='x', labelsize=15)

#plot berdasarkan monetary
sns.barplot(y="monetary", x="customer_id_initial", data=rfm_df.sort_values(by="monetary", ascending=False).head(5), palette=colors, ax=ax[2])
ax[2].set_ylabel(None)
ax[2].set_xlabel(None)
ax[2].set_title("By Monetary", loc="center", fontsize=18)
ax[2].tick_params(axis='x', labelsize=15)

plt.suptitle("Best Customer Based on RFM Parameters (customer_id)", fontsize=20)
plt.show()
## Conclusion
- Conclution pertanyaan 1:
pada tiga bulan terakhir di tahun 2018 performa penjualan dan revenue mengalami penurunan
- Conclution pertanyaan 2:
product dengan penjualan terbaik yaitu ferramentas_jardim dan product dengan penjualan terendah yaitu seguros_e_servicos
- Conclution pertanyaan 3:
sebaran demografi seller berdasarkan kota terbanyak ada di Sao Paulo, dan di state dengan kode SP
## Menyimpan seluruh data
#menyimpan seluruh data dalam 'all_data.csv'
all_info_product_df.to_csv("all_data.csv", index=False)
